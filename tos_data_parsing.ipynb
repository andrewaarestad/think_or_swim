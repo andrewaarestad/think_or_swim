{
 "cells": [
  {
   "cell_type": "code",
   "execution_count": 8,
   "metadata": {},
   "outputs": [],
   "source": [
    "import os\n",
    "import pandas as pd\n",
    "import io"
   ]
  },
  {
   "cell_type": "code",
   "execution_count": 9,
   "metadata": {},
   "outputs": [],
   "source": [
    "# %pip install pandas"
   ]
  },
  {
   "cell_type": "code",
   "execution_count": 13,
   "metadata": {},
   "outputs": [],
   "source": [
    "DATA_DIR = \"./data\""
   ]
  },
  {
   "cell_type": "code",
   "execution_count": 14,
   "metadata": {},
   "outputs": [
    {
     "name": "stdout",
     "output_type": "stream",
     "text": [
      "2022-05-27-AccountStatement.csv\n"
     ]
    }
   ],
   "source": [
    "allFiles = os.listdir(DATA_DIR)\n",
    "allFiles = [f for f in allFiles if f.endswith(\".csv\")]\n",
    "print(allFiles[0])"
   ]
  },
  {
   "cell_type": "code",
   "execution_count": 20,
   "metadata": {},
   "outputs": [],
   "source": [
    "def parseTables(groups):\n",
    "    tables = []\n",
    "    for group in groups:\n",
    "        lines = group.split(\"\\n\")\n",
    "        if (lines[0].strip() == \"\"):\n",
    "            continue\n",
    "        tables.append({\n",
    "            \"title\": lines[0],\n",
    "            \"df\": pd.read_csv(io.StringIO(\"\\n\".join(lines[1:])))\n",
    "        })\n",
    "    return tables\n",
    "\n",
    "def processAccountStatement(statementPath):\n",
    "    print(\"Processing \" + statementPath)\n",
    "\n",
    "    # Read the file\n",
    "    data = None\n",
    "    with open(statementPath, \"r\") as f:\n",
    "        data = f.read()\n",
    "\n",
    "    data = data.replace(\"\\n\\n\\n\", \"\\n\\n\")\n",
    "    groups = data.split(\"\\n\\n\")\n",
    "\n",
    "    # First group is title\n",
    "    groups = groups[1:]\n",
    "\n",
    "    tables = parseTables(groups)\n",
    "\n",
    "    print(\"Tables: \")\n",
    "    for table in tables:\n",
    "        print(\"Table: {}, rows: {}\".format(table[\"title\"], table[\"df\"].shape[0]))\n",
    "        # print(table[\"df\"].head())\n",
    "        print()\n"
   ]
  },
  {
   "cell_type": "code",
   "execution_count": 21,
   "metadata": {},
   "outputs": [
    {
     "name": "stdout",
     "output_type": "stream",
     "text": [
      "Processing ./data/2022-05-27-AccountStatement.csv\n",
      "Tables: \n",
      "Table: Cash Balance, rows: 181\n",
      "\n",
      "Table: Futures Statements, rows: 0\n",
      "\n",
      "Table: Forex Statements, rows: 0\n",
      "\n",
      "Table: Account Order History, rows: 199\n",
      "\n",
      "Table: Account Trade History, rows: 55\n",
      "\n",
      "Table: Profits and Losses, rows: 22\n",
      "\n",
      "Table: Account Summary, rows: 5\n",
      "\n"
     ]
    }
   ],
   "source": [
    "processAccountStatement(DATA_DIR + \"/\" + allFiles[0])"
   ]
  },
  {
   "cell_type": "code",
   "execution_count": null,
   "metadata": {},
   "outputs": [],
   "source": []
  }
 ],
 "metadata": {
  "kernelspec": {
   "display_name": "venv",
   "language": "python",
   "name": "python3"
  },
  "language_info": {
   "codemirror_mode": {
    "name": "ipython",
    "version": 3
   },
   "file_extension": ".py",
   "mimetype": "text/x-python",
   "name": "python",
   "nbconvert_exporter": "python",
   "pygments_lexer": "ipython3",
   "version": "3.11.3"
  }
 },
 "nbformat": 4,
 "nbformat_minor": 2
}
